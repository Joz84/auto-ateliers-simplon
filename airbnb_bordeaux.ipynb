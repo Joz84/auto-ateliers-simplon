{
 "metadata": {
  "language_info": {
   "codemirror_mode": {
    "name": "ipython",
    "version": 3
   },
   "file_extension": ".py",
   "mimetype": "text/x-python",
   "name": "python",
   "nbconvert_exporter": "python",
   "pygments_lexer": "ipython3",
   "version": "3.8.3-final"
  },
  "orig_nbformat": 2,
  "kernelspec": {
   "name": "python38332bitbdd5b2b4d32c4eaba9a6c49dd86de85f",
   "display_name": "Python 3.8.3 32-bit"
  }
 },
 "nbformat": 4,
 "nbformat_minor": 2,
 "cells": [
  {
   "cell_type": "code",
   "execution_count": 1,
   "metadata": {},
   "outputs": [],
   "source": [
    "from IPython.core.display import display, HTML\n",
    "import IPython.display\n",
    "import numpy as np\n",
    "import pandas as pd\n",
    "import seaborn as sns\n",
    "sns.set()\n",
    "import matplotlib.pyplot as plt\n",
    "\n",
    "import os\n",
    "import warnings\n",
    "warnings.simplefilter(action='ignore', category=FutureWarning)\n",
    "\n",
    "import folium\n",
    "from folium.plugins import FastMarkerCluster\n",
    "\n",
    "\n",
    "quartiers = pd.read_csv(\"listings.csv\", index_col= \"id\")\n",
    "\n",
    "quartiers_details = pd.read_csv(\"listings_raw.csv\", index_col= \"id\", low_memory=False)\n",
    "\n",
    "calendrier = pd.read_csv(\"calendar.csv\", parse_dates=['date'], index_col=['listing_id'])\n",
    "\n",
    "reviews_details = pd.read_csv(\"reviews.csv\", parse_dates=['date'])"
   ]
  },
  {
   "cell_type": "code",
   "execution_count": null,
   "metadata": {},
   "outputs": [],
   "source": []
  }
 ]
}