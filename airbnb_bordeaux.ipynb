{
 "metadata": {
  "language_info": {
   "codemirror_mode": {
    "name": "ipython",
    "version": 3
   },
   "file_extension": ".py",
   "mimetype": "text/x-python",
   "name": "python",
   "nbconvert_exporter": "python",
   "pygments_lexer": "ipython3",
   "version": "3.8.3-final"
  },
  "orig_nbformat": 2,
  "kernelspec": {
   "name": "python38332bitbdd5b2b4d32c4eaba9a6c49dd86de85f",
   "display_name": "Python 3.8.3 32-bit"
  }
 },
 "nbformat": 4,
 "nbformat_minor": 2,
 "cells": [
  {
   "cell_type": "markdown",
   "metadata": {},
   "source": [
    "Les biens recensés AirBnb Bordeaux "
   ]
  },
  {
   "cell_type": "markdown",
   "metadata": {},
   "source": [
    "Depuis l’an 2018 la ville de Bordeaux vit une pénurie de logements, de nombreux d’articles de la presse y sont consacrés en pointant du doigt les locations courte durée qui sont largement dominé par le géant AirBnB, ce marché est réglementé par la municipalité mais est ce suffisant pour pour donner le souffle? Pour cette raison il est important de voir la situation actuel un peu plus en détails. Pour cela vous allez effectué une récupération des données qui datent du 25 mai 2020. Toutes les données sont recuperées depuis le site insideairbnb.com"
   ]
  },
  {
   "cell_type": "code",
   "execution_count": 1,
   "metadata": {},
   "outputs": [],
   "source": [
    "from IPython.core.display import display, HTML\n",
    "import IPython.display\n",
    "import numpy as np\n",
    "import pandas as pd\n",
    "import seaborn as sns\n",
    "sns.set()\n",
    "import matplotlib.pyplot as plt\n",
    "\n",
    "import os\n",
    "import warnings\n",
    "warnings.simplefilter(action='ignore', category=FutureWarning)\n",
    "\n",
    "import folium\n",
    "from folium.plugins import FastMarkerCluster\n",
    "\n",
    "\n",
    "quartiers = pd.read_csv(\"listings.csv\", index_col= \"id\")\n",
    "\n",
    "quartiers_details = pd.read_csv(\"listings_raw.csv\", index_col= \"id\", low_memory=False)\n",
    "\n",
    "calendrier = pd.read_csv(\"calendar.csv\", parse_dates=['date'], index_col=['listing_id'])\n",
    "\n",
    "reviews_details = pd.read_csv(\"reviews.csv\", parse_dates=['date'])"
   ]
  },
  {
   "cell_type": "code",
   "execution_count": 2,
   "metadata": {},
   "outputs": [],
   "source": [
    "# 1. Visionez nombre de biens dans le fichier de quartiers"
   ]
  },
  {
   "cell_type": "code",
   "execution_count": 3,
   "metadata": {},
   "outputs": [],
   "source": [
    "# 2. Visionez la composition du tableau de quarties"
   ]
  },
  {
   "cell_type": "markdown",
   "metadata": {},
   "source": [
    "Bon il est temps de passer à l'echauffement !!!"
   ]
  },
  {
   "cell_type": "code",
   "execution_count": 4,
   "metadata": {},
   "outputs": [],
   "source": [
    "# 3. En utilisant la bibliothéque MatplotLib vous allez afficher le graphique avec les biens par \"neighbourhood\" "
   ]
  },
  {
   "cell_type": "markdown",
   "metadata": {},
   "source": [
    "Génial ! Maintenant que nous avons un visuel des biens, il est peu être plus interessant de le voir sur une carte interactive. "
   ]
  },
  {
   "cell_type": "code",
   "execution_count": 7,
   "metadata": {},
   "outputs": [],
   "source": [
    " # 4. On va utiliser \"Folium\" pour afficher nos resultas. Utilisez le style de carte \"FastMarkerCluster\" pour un rendu optimal."
   ]
  },
  {
   "cell_type": "code",
   "execution_count": 8,
   "metadata": {},
   "outputs": [],
   "source": [
    "# 5. C'est beau mais pas assez clairifié, voyons quel type de logement est proposer. Utilisez \"MatplotLib\""
   ]
  },
  {
   "cell_type": "code",
   "execution_count": 11,
   "metadata": {},
   "outputs": [],
   "source": [
    "# 6. Idem via MatplotLib affichez le tarif à la nuitée par quartier en faisant une moyenne."
   ]
  },
  {
   "cell_type": "markdown",
   "metadata": {},
   "source": [
    "Soufflez vous y êtes presque, maintenant il est temps d'aller de voir les propriétaires, Tok Tok !"
   ]
  },
  {
   "cell_type": "code",
   "execution_count": 9,
   "metadata": {},
   "outputs": [],
   "source": [
    "# 7. Reperez le nombre d'identifiants"
   ]
  },
  {
   "cell_type": "code",
   "execution_count": 10,
   "metadata": {},
   "outputs": [],
   "source": [
    "# 8. Si quelque chose ne colle pas entre le nombre de logement et le nombre de propriétaires alors il est temps de compter nombre de biens par propriétaire. Top 15"
   ]
  },
  {
   "cell_type": "code",
   "execution_count": 12,
   "metadata": {},
   "outputs": [],
   "source": [
    "# 9. Une fois qque vous avez obtenu la liste, penchez sur le champion"
   ]
  },
  {
   "cell_type": "code",
   "execution_count": 13,
   "metadata": {},
   "outputs": [],
   "source": [
    "# 10. B.O.N.U.S : afficher le tableau avec la presentation des top 10 host, leurs prenom et le nombre de biens qu'ils possedent."
   ]
  }
 ]
}